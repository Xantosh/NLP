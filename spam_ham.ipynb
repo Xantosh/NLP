{
 "cells": [
  {
   "cell_type": "code",
   "execution_count": 1,
   "metadata": {},
   "outputs": [],
   "source": [
    "import os\n",
    "import codecs\n",
    "\n",
    "def read_in(folder):\n",
    "    files = os.listdir(folder)\n",
    "    a_list = []\n",
    "    for a_file in files:\n",
    "        if not a_file.startswith(\".\"):\n",
    "            if a_file == \"dialogues_train.txt\":\n",
    "                f = codecs.open(folder + a_file, \"r\", encoding = \"ISO-8859-1\", errors = \"ignore\")\n",
    "                a_list.append(f.read())\n",
    "                f.close()\n",
    "    return a_list"
   ]
  },
  {
   "cell_type": "code",
   "execution_count": 2,
   "metadata": {},
   "outputs": [
    {
     "name": "stdout",
     "output_type": "stream",
     "text": [
      "1\n"
     ]
    }
   ],
   "source": [
    "test_list = read_in(\"/Users/Madara/Desktop/train/\")\n",
    "\n",
    "print(len(test_list))\n",
    "\n",
    "#print(spam_list[0])"
   ]
  },
  {
   "cell_type": "code",
   "execution_count": 3,
   "metadata": {},
   "outputs": [
    {
     "name": "stdout",
     "output_type": "stream",
     "text": [
      "Dataset_size = 5172\n"
     ]
    }
   ],
   "source": [
    "#combine data into single form\n",
    "import random\n",
    "all_emails = [(email_content, \"spam\") for email_content in spam_list]\n",
    "all_emails += [(email_content, \"ham\") for email_content in ham_list]\n",
    "random.seed(42)\n",
    "random.shuffle(all_emails)\n",
    "print(f\"Dataset_size = {str(len(all_emails))}\")\n",
    "\n"
   ]
  },
  {
   "cell_type": "code",
   "execution_count": 4,
   "metadata": {},
   "outputs": [
    {
     "name": "stderr",
     "output_type": "stream",
     "text": [
      "[nltk_data] Downloading package punkt to\n",
      "[nltk_data]     C:\\Users\\Madara\\AppData\\Roaming\\nltk_data...\n"
     ]
    },
    {
     "name": "stdout",
     "output_type": "stream",
     "text": [
      "['What', \"'s\", 'the', 'best', 'way', 'to', 'split', 'a', 'sentence', 'into', 'words', '?']\n"
     ]
    },
    {
     "name": "stderr",
     "output_type": "stream",
     "text": [
      "[nltk_data]   Package punkt is already up-to-date!\n"
     ]
    }
   ],
   "source": [
    "import nltk\n",
    "from nltk import word_tokenize\n",
    "nltk.download('punkt')\n",
    "\n",
    "def tokenize(input):\n",
    "    word_list = []\n",
    "    for word in word_tokenize(input):\n",
    "        word_list.append(word)\n",
    "    return word_list\n",
    "\n",
    "input = \"What's the best way to split a sentence into words?\"\n",
    "print(tokenize(input))\n"
   ]
  },
  {
   "cell_type": "code",
   "execution_count": null,
   "metadata": {},
   "outputs": [],
   "source": [
    "#extract features\n",
    "def get_features(text):\n",
    "    features = {}\n",
    "    word_list = [word for word in word_tokenize(text.lower())]\n",
    "    for word in word_list:\n",
    "        features[word] = True\n",
    "    return features\n",
    "\n",
    "all_features = [(get_features(email), label) for (email, label) in all_emails]\n",
    "\n",
    "print(len(all_features))\n",
    "print(all_features[0][0])"
   ]
  },
  {
   "cell_type": "code",
   "execution_count": 7,
   "metadata": {},
   "outputs": [
    {
     "name": "stdout",
     "output_type": "stream",
     "text": [
      "Training size = 4137 emails\n",
      "Test size = 1035 emails\n"
     ]
    }
   ],
   "source": [
    "# naive bayes classifier\n",
    "\n",
    "from nltk import NaiveBayesClassifier, classify\n",
    "\n",
    "def train(features, proportion):\n",
    "    train_size = int(len(features) * proportion)\n",
    "    train_set, test_set = features[:train_size], features[train_size:]\n",
    "    print(f\"Training size = {str(len(train_set))} emails\")\n",
    "    print(f\"Test size = {str(len(test_set))} emails\")\n",
    "    classifier = NaiveBayesClassifier.train(train_set) # we have to use this for prediction.\n",
    "    return train_set, test_set, classifier\n",
    "\n",
    "train_set, test_set, classifier = train(all_features, 0.8)\n",
    "\n"
   ]
  },
  {
   "cell_type": "code",
   "execution_count": null,
   "metadata": {},
   "outputs": [],
   "source": [
    "#Evaluate classifier performance\n",
    "def evaluate(train_set, test_set, classifier):\n",
    "    print(f\"Accuracy of the training set = {str(classify.accuracy(classifier, train_set))}\")\n",
    "    print(f\"Accuracy of the test set = {str(classify.accuracy(classifier, test_set))}\")\n",
    "    classifier.show_most_informative_features(50)\n",
    "\n",
    "evaluate(train_set, test_set, classifier)"
   ]
  },
  {
   "cell_type": "code",
   "execution_count": null,
   "metadata": {},
   "outputs": [],
   "source": [
    "from nltk.text import Text\n",
    "def concordance(data_list, search_word):\n",
    "    for email in data_list:\n",
    "        word_list = [word for word in word_tokenize(email.lower())]\n",
    "        text_list = Text(word_list)\n",
    "        if search_word in word_list:\n",
    "            text_list.concordance(search_word)\n",
    "\n",
    "print(\"STOCKS in HAM :\")\n",
    "concordance(ham_list, 'stocks')\n",
    "print(\"\\n\\nSTOCKS in SPAM:\")\n",
    "concordance(spam_list, \"stocks\")\n"
   ]
  }
 ],
 "metadata": {
  "kernelspec": {
   "display_name": "Python 3.10.8 64-bit",
   "language": "python",
   "name": "python3"
  },
  "language_info": {
   "codemirror_mode": {
    "name": "ipython",
    "version": 3
   },
   "file_extension": ".py",
   "mimetype": "text/x-python",
   "name": "python",
   "nbconvert_exporter": "python",
   "pygments_lexer": "ipython3",
   "version": "3.10.8"
  },
  "orig_nbformat": 4,
  "vscode": {
   "interpreter": {
    "hash": "db50fad864a03468a9c460cabe531559ec7925353e6e14be2127fe1d88d719ec"
   }
  }
 },
 "nbformat": 4,
 "nbformat_minor": 2
}
