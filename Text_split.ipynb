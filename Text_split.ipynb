{
  "nbformat": 4,
  "nbformat_minor": 0,
  "metadata": {
    "colab": {
      "provenance": [],
      "collapsed_sections": [],
      "authorship_tag": "ABX9TyN+usIpjE0H6Mb7+7ZR4EP9",
      "include_colab_link": true
    },
    "kernelspec": {
      "name": "python3",
      "display_name": "Python 3"
    },
    "language_info": {
      "name": "python"
    }
  },
  "cells": [
    {
      "cell_type": "markdown",
      "metadata": {
        "id": "view-in-github",
        "colab_type": "text"
      },
      "source": [
        "<a href=\"https://colab.research.google.com/github/Xantosh/NLP/blob/main/Text_split.ipynb\" target=\"_parent\"><img src=\"https://colab.research.google.com/assets/colab-badge.svg\" alt=\"Open In Colab\"/></a>"
      ]
    },
    {
      "cell_type": "code",
      "execution_count": null,
      "metadata": {
        "colab": {
          "base_uri": "https://localhost:8080/"
        },
        "id": "z5zazSUA03u5",
        "outputId": "7735c226-7492-4372-d218-a883e5116ab0"
      },
      "outputs": [
        {
          "output_type": "stream",
          "name": "stdout",
          "text": [
            "[3, 5]\n"
          ]
        }
      ],
      "source": [
        "# calculating frquency of the words in a document\n",
        "\n",
        "doc1 = \"meeting ... management ... meeting ... management ... meeting\"\n",
        "doc1 += \" ... management ... meeting ... meeting\"\n",
        "\n",
        "vector = [0, 0]     #[management count, meeting count]\n",
        "\n",
        "for word in doc1.split(\" \"):\n",
        "  if word == \"management\":\n",
        "    vector[0] += 1\n",
        "\n",
        "  if word == \"meeting\":\n",
        "    vector[1] += 1\n",
        "\n",
        "print(vector) "
      ]
    },
    {
      "cell_type": "code",
      "source": [
        "# finding relevenance with query\n",
        "import math\n",
        "\n",
        "query = [1, 1]\n",
        "doc1 = [3, 5]\n",
        "sq_length = 0\n",
        "\n",
        "for index in range(0, len(query)):\n",
        "  sq_length += math.pow((doc1[index] - query[index]), 2)\n",
        "\n",
        "length = math.sqrt(sq_length)\n",
        "print(length)"
      ],
      "metadata": {
        "id": "rKl5fINb6oUK",
        "outputId": "6d9454dc-a09e-449d-82bf-d9b85618bd28",
        "colab": {
          "base_uri": "https://localhost:8080/"
        }
      },
      "execution_count": null,
      "outputs": [
        {
          "output_type": "stream",
          "name": "stdout",
          "text": [
            "4.47213595499958\n"
          ]
        }
      ]
    },
    {
      "cell_type": "code",
      "source": [
        "# cosine similarity\n",
        "import math\n",
        "\n",
        "query = [1, 1]\n",
        "doc1 = [3, 5]\n",
        "\n",
        "def length(vector):\n",
        "  square_dt = 0\n",
        "  for i in range(0, len(vector)):\n",
        "    square_dt += math.pow(vector[i] , 2)\n",
        "  return math.sqrt(square_dt)\n",
        "\n",
        "def dot_product(vector1, vector2):\n",
        "  if len(vector1) == len(vector2):\n",
        "    dot_prod = 0\n",
        "    for i in range(0, len(vector1)):\n",
        "      dot_prod += vector1[i] * vector2[i]  \n",
        "    return dot_prod\n",
        "  \n",
        "  else:\n",
        "    return \"Unmatched Dimensionality\"\n",
        "\n",
        "cosine = dot_product(query, doc1)/ (length(query) * length(doc1))\n",
        "print(cosine)"
      ],
      "metadata": {
        "colab": {
          "base_uri": "https://localhost:8080/"
        },
        "id": "sIgULiB1ZXEy",
        "outputId": "87d80244-427d-4947-f1a8-cb2ba32e945d"
      },
      "execution_count": 2,
      "outputs": [
        {
          "output_type": "stream",
          "name": "stdout",
          "text": [
            "0.9701425001453319\n"
          ]
        }
      ]
    },
    {
      "cell_type": "code",
      "source": [
        "# Exercise 1.1 Calculate cosine similarity between each pair of vectors: A=[4,3], B=[5,5], and C=[1,10]. Which ones are closest (most \n",
        "# similar) to each other?\n",
        "import math \n",
        "\n",
        "A = [4, 3]\n",
        "B = [5, 5]\n",
        "C = [1, 10]\n",
        "\n",
        "def length(vector):\n",
        "  sq_length = 0\n",
        "  for i in range(0, len(vector)):\n",
        "    sq_length += math.pow(vector[i], 2)\n",
        "  return math.sqrt(sq_length)\n",
        "\n",
        "def dot_product(vector1, vector2):\n",
        "  dot_prod = 0\n",
        "  if len(vector1) == len(vector2):\n",
        "    for i in range(0, len(vector1)):\n",
        "      dot_prod += vector1[i] * vector2[i]\n",
        "    return dot_prod\n",
        "\n",
        "  else:\n",
        "    return \"Unmatched dimensionality\"\n",
        "\n",
        "def cosine_similarity(vector1, vector2):\n",
        "  consine = dot_product(vector1, vector2)/ (length(vector1) * length(vector2))\n",
        "  return consine\n",
        "\n",
        "print(cosine_similarity(A, B))\n",
        "print(cosine_similarity(A, C))\n",
        "print(cosine_similarity(C, B))\n",
        "\n",
        "\n",
        "    \n",
        "\n",
        "\n",
        "\n"
      ],
      "metadata": {
        "colab": {
          "base_uri": "https://localhost:8080/"
        },
        "id": "nKWi3ipwNoay",
        "outputId": "ad6e2144-1ada-4725-d38b-c5a40b9d94fe"
      },
      "execution_count": 2,
      "outputs": [
        {
          "output_type": "stream",
          "name": "stdout",
          "text": [
            "0.9899494936611665\n",
            "0.6766252893427926\n",
            "0.773957299203321\n"
          ]
        }
      ]
    }
  ]
}